{
  "nbformat": 4,
  "nbformat_minor": 0,
  "metadata": {
    "colab": {
      "provenance": []
    },
    "kernelspec": {
      "name": "python3",
      "display_name": "Python 3"
    },
    "language_info": {
      "name": "python"
    }
  },
  "cells": [
    {
      "cell_type": "markdown",
      "source": [
        "#Pyhton Basic\n"
      ],
      "metadata": {
        "id": "kAHDdcUtnihL"
      }
    },
    {
      "cell_type": "markdown",
      "source": [
        "1. What is Python, and why is it popular?\n",
        "- Python is a high level, interpreted object oriented programming language.\n",
        " It is popular because of its simple syntax and it’s a interpreted language because python code execute line by line.\n",
        "2. What is an interpreter in Python?\n",
        "- Interpreted means its code can be compiled and execute its line by line.\n",
        "3. What are pre-defined keywords in Python?\n",
        "- Pre define keywords in python are if,else,elif,while,for,true,false etc.\n",
        "4. Can keywords be used as variable names?\n",
        "- No because keywords are reserved words that have special meaning.\n",
        "5. What is mutability in Python?\n",
        "- Mutability means it can be changeable.\n",
        "6. Why are lists mutable, but tuples are immutable?\n",
        "- In list we can add remove change any data after creation but we can’t change any data after tuple created.\n",
        "7. What is the difference between \"==\" and \"is\" operators in Python?\n",
        "- “==” this compare the values of two operant and “is” this compare the memory address of two operant.\n",
        "8. What are logical operators in Python?\n",
        "- logical operators in python is ‘AND’, ‘OR’, ‘NOT’.\n",
        "9. What is type casting in Python?\n",
        "- Type casting means converting one datatype to another .\n",
        "10. What is the difference between implicit and explicit type casting?\n",
        "- Implicit typecasting means it detect the datatype automatically\n",
        "explicit typecasting means it can’t be detect the datatype automatically we have to write the datatype manually.\n",
        "11. What is the purpose of conditional statements in Python?\n",
        "- Conditional statements is If, Else, Elif it required when we have conditions means code will execute when a condition is true or false.\n",
        "12. How does the elif statement work?\n",
        "- When we have two or more condition in one code then we can use the elif statement.\n",
        "13. What is the difference between for and while loops?\n",
        "- For loop is used when we know the iteration number but while loop is execute until the condition not satisfied.\n",
        "14. Describe a scenario where a while loop is more suitable than a for loop\n",
        "- For loop is used when we know the iteration number but while loop is execute until the condition is not satisfied.\n"
      ],
      "metadata": {
        "id": "-MNYbEwqnqt6"
      }
    },
    {
      "cell_type": "code",
      "source": [
        "#1.Write a Python program to print \"Hello, World!\"\n",
        "print(\"Hello World\")"
      ],
      "metadata": {
        "colab": {
          "base_uri": "https://localhost:8080/"
        },
        "id": "iQyC6gPxn8d3",
        "outputId": "7068af6c-a4e5-40e5-afa3-44eaac52b054"
      },
      "execution_count": 2,
      "outputs": [
        {
          "output_type": "stream",
          "name": "stdout",
          "text": [
            "Hello World\n"
          ]
        }
      ]
    },
    {
      "cell_type": "code",
      "source": [
        "#2. Write a Python program that displays your name and age.\n",
        "name=input(\"Enter your name: \")\n",
        "age=int(input(\"Enter your age: \"))\n",
        "print(f\"hello {name} & your age is {age}\")\n"
      ],
      "metadata": {
        "colab": {
          "base_uri": "https://localhost:8080/"
        },
        "id": "ObbkXWFIoR6L",
        "outputId": "fd6fa8e3-82d2-440c-d480-dd421aea2e5d"
      },
      "execution_count": 3,
      "outputs": [
        {
          "output_type": "stream",
          "name": "stdout",
          "text": [
            "Enter your name: Bivabasu Majumdar\n",
            "Enter your age: 23\n",
            "hello Bivabasu Majumdar & your age is 23\n"
          ]
        }
      ]
    },
    {
      "cell_type": "code",
      "source": [
        "#3. Write code to print all the pre-defined keywords in Python using the keyword library.\n",
        "import keyword\n",
        "print(\"The list of keywords in python is : \")\n",
        "print(keyword.kwlist)\n"
      ],
      "metadata": {
        "colab": {
          "base_uri": "https://localhost:8080/"
        },
        "id": "9F9DcL0SocDR",
        "outputId": "c21981d9-719f-49aa-fcb5-76cb1e8c1529"
      },
      "execution_count": 4,
      "outputs": [
        {
          "output_type": "stream",
          "name": "stdout",
          "text": [
            "The list of keywords in python is : \n",
            "['False', 'None', 'True', 'and', 'as', 'assert', 'async', 'await', 'break', 'class', 'continue', 'def', 'del', 'elif', 'else', 'except', 'finally', 'for', 'from', 'global', 'if', 'import', 'in', 'is', 'lambda', 'nonlocal', 'not', 'or', 'pass', 'raise', 'return', 'try', 'while', 'with', 'yield']\n"
          ]
        }
      ]
    },
    {
      "cell_type": "code",
      "source": [
        "#4. Write a program that checks if a given word is a Python keyword.\n",
        "import keyword\n",
        "a=keyword.kwlist\n",
        "word = input(\"Enter a word: \")\n",
        "if word in a:\n",
        "  print(f\"{word} is a Python keyword.\")\n",
        "else:\n",
        "  print(f\"{word} is not a Python keyword.\")\n"
      ],
      "metadata": {
        "colab": {
          "base_uri": "https://localhost:8080/"
        },
        "id": "DMr0WrC4orMo",
        "outputId": "115314f3-a883-48e1-9e38-d9bdf1415d53"
      },
      "execution_count": 7,
      "outputs": [
        {
          "output_type": "stream",
          "name": "stdout",
          "text": [
            "Enter a word: elif\n",
            "elif is a Python keyword.\n"
          ]
        }
      ]
    },
    {
      "cell_type": "code",
      "source": [
        "#5. Create a list and tuple in Python, and demonstrate how attempting to change an element works differently for each.\n",
        "l = [1, 2, 3, 4, 5]\n",
        "t = (1, 2, 3, 4, 5)\n",
        "print(\"Original List:\", l)\n",
        "l[2] = 10\n",
        "print(\"List after modification:\", l)\n",
        "print(\"Original Tuple:\", t)\n",
        "try:\n",
        "    t[2] = 10\n",
        "except TypeError as e:\n",
        "    print(e)\n"
      ],
      "metadata": {
        "colab": {
          "base_uri": "https://localhost:8080/"
        },
        "id": "wX3tOoVGoxwc",
        "outputId": "9edcae1c-b132-4321-9ea7-21cea1b9c339"
      },
      "execution_count": 8,
      "outputs": [
        {
          "output_type": "stream",
          "name": "stdout",
          "text": [
            "Original List: [1, 2, 3, 4, 5]\n",
            "List after modification: [1, 2, 10, 4, 5]\n",
            "Original Tuple: (1, 2, 3, 4, 5)\n",
            "'tuple' object does not support item assignment\n"
          ]
        }
      ]
    },
    {
      "cell_type": "code",
      "source": [
        "#6. Write a function to demonstrate the behavior of mutable and immutable arguments.\n",
        "l = [1, 2, 3, 4, 5]\n",
        "t = (1, 2, 3, 4, 5)\n",
        "print(\"Original List:\", l)\n",
        "l[2] = 10\n",
        "print(\"List after modification:\", l)\n",
        "print(\"Original Tuple:\", t)\n",
        "try:\n",
        "    t[2] = 10\n",
        "except TypeError as e:\n",
        "    print(e)\n"
      ],
      "metadata": {
        "colab": {
          "base_uri": "https://localhost:8080/"
        },
        "id": "J3DQZ_kopBav",
        "outputId": "caa0e47b-37ee-4668-b91b-c7469076b4e9"
      },
      "execution_count": 9,
      "outputs": [
        {
          "output_type": "stream",
          "name": "stdout",
          "text": [
            "Original List: [1, 2, 3, 4, 5]\n",
            "List after modification: [1, 2, 10, 4, 5]\n",
            "Original Tuple: (1, 2, 3, 4, 5)\n",
            "'tuple' object does not support item assignment\n"
          ]
        }
      ]
    },
    {
      "cell_type": "code",
      "source": [
        "#7. Write a function to demonstrate the behavior of mutable and immutable arguments.\n",
        "l = [1, 2, 3, 4, 5]\n",
        "t = (1, 2, 3, 4, 5)\n",
        "print(\"Original List:\", l)\n",
        "l[2] = 10\n",
        "print(\"List after modification:\", l)\n",
        "print(\"Original Tuple:\", t)\n",
        "try:\n",
        "    t[2] = 10\n",
        "except TypeError as e:\n",
        "    print(e)\n"
      ],
      "metadata": {
        "colab": {
          "base_uri": "https://localhost:8080/"
        },
        "id": "FBPHO-2-pc-y",
        "outputId": "0e90b18a-500b-44d5-e743-b483436f5b4e"
      },
      "execution_count": 12,
      "outputs": [
        {
          "output_type": "stream",
          "name": "stdout",
          "text": [
            "Original List: [1, 2, 3, 4, 5]\n",
            "List after modification: [1, 2, 10, 4, 5]\n",
            "Original Tuple: (1, 2, 3, 4, 5)\n",
            "'tuple' object does not support item assignment\n"
          ]
        }
      ]
    },
    {
      "cell_type": "code",
      "source": [
        "#8. Write a program to demonstrate the use of logical operators.\n",
        "x = 7\n",
        "print(x > 4 and x < 10)\n",
        "print(x > 4 or x < 10)\n",
        "print(not(x > 4 and x < 10))\n"
      ],
      "metadata": {
        "colab": {
          "base_uri": "https://localhost:8080/"
        },
        "id": "ufwXFfgNpj7W",
        "outputId": "9c3a270f-a015-40e2-f6e1-34cc487bb6e2"
      },
      "execution_count": 14,
      "outputs": [
        {
          "output_type": "stream",
          "name": "stdout",
          "text": [
            "True\n",
            "True\n",
            "False\n"
          ]
        }
      ]
    },
    {
      "cell_type": "code",
      "source": [
        "#9. Write a Python program to convert user input from string to integer, float, and boolean types.\n",
        "s=input(\"enter a number: \")\n",
        "a=int(s)\n",
        "b=float(s)\n",
        "c=bool(s)\n",
        "print(s, a, b, c)\n",
        "print(type(s))\n",
        "print(type(a))\n",
        "print(type(b))\n",
        "print(type(c))\n"
      ],
      "metadata": {
        "colab": {
          "base_uri": "https://localhost:8080/"
        },
        "id": "vGUUqLyUpx8v",
        "outputId": "fececa74-bcaf-4c57-ad0d-ba9a25b2f052"
      },
      "execution_count": 15,
      "outputs": [
        {
          "output_type": "stream",
          "name": "stdout",
          "text": [
            "enter a number: 7\n",
            "7 7 7.0 True\n",
            "<class 'str'>\n",
            "<class 'int'>\n",
            "<class 'float'>\n",
            "<class 'bool'>\n"
          ]
        }
      ]
    },
    {
      "cell_type": "code",
      "source": [
        "#10. Write code to demonstrate type casting with list elements.\n",
        "orn_list=['1', 2, 3.5, True]\n",
        "int_list=[int(orn_list[0]),int(orn_list[1]),int(orn_list[2]),int(orn_list[3])]\n",
        "float_list=[float(orn_list[0]),float(orn_list[1]),float(orn_list[2]),float(orn_list[3])]\n",
        "str_list=[str(orn_list[0]),str(orn_list[1]),str(orn_list[2]),str(orn_list[3])]\n",
        "bool_list=[bool(orn_list[0]),bool(orn_list[1]),bool(orn_list[2]),bool(orn_list[3])]\n",
        "print(int_list)\n",
        "print(float_list)\n",
        "print(str_list)\n",
        "print(bool_list)\n"
      ],
      "metadata": {
        "colab": {
          "base_uri": "https://localhost:8080/"
        },
        "id": "0tF4V6ZPp6J7",
        "outputId": "5241b673-e060-46ee-f951-0d013ecf6132"
      },
      "execution_count": 17,
      "outputs": [
        {
          "output_type": "stream",
          "name": "stdout",
          "text": [
            "[1, 2, 3, 1]\n",
            "[1.0, 2.0, 3.5, 1.0]\n",
            "['1', '2', '3.5', 'True']\n",
            "[True, True, True, True]\n"
          ]
        }
      ]
    },
    {
      "cell_type": "code",
      "source": [
        "#11. Write a program that checks if a number is positive, negative, or zero.\n",
        "num=int(input(\"Enter a number to check: \"))\n",
        "if (num>0):\n",
        "    print(f\"{num} is a positive number\")\n",
        "elif (num<0):\n",
        "    print(f\"{num} is a negative number\")\n",
        "else:\n",
        "    print(f\"{num} is zero\")\n"
      ],
      "metadata": {
        "colab": {
          "base_uri": "https://localhost:8080/"
        },
        "id": "AQMe-hHFqRB1",
        "outputId": "3e557f5f-76f4-4697-ea7e-95770a1ef1ad"
      },
      "execution_count": 18,
      "outputs": [
        {
          "output_type": "stream",
          "name": "stdout",
          "text": [
            "Enter a number to check: 5\n",
            "5 is a positive number\n"
          ]
        }
      ]
    },
    {
      "cell_type": "code",
      "source": [
        "#12. Write a for loop to print numbers from 1 to 10.\n",
        "for i in range(10):\n",
        "    print(i, end=\" \")\n"
      ],
      "metadata": {
        "colab": {
          "base_uri": "https://localhost:8080/"
        },
        "id": "L5XMNKx0qU_V",
        "outputId": "c0d177fa-3f1d-4c92-eae8-78965daeb7e4"
      },
      "execution_count": 20,
      "outputs": [
        {
          "output_type": "stream",
          "name": "stdout",
          "text": [
            "0 1 2 3 4 5 6 7 8 9 "
          ]
        }
      ]
    },
    {
      "cell_type": "code",
      "source": [
        "#13. Write a Python program to find the sum of all even numbers between 1 and 50.\n",
        "i=0\n",
        "s=0\n",
        "while(i <=50):\n",
        "    if(i%2 == 0):\n",
        "        s=s+i\n",
        "    i+=1\n",
        "print(f\"sum of all even numbers between 1 to 50 is {s}\")\n"
      ],
      "metadata": {
        "colab": {
          "base_uri": "https://localhost:8080/"
        },
        "id": "55N1ukMaqbAK",
        "outputId": "a500dd0f-45a8-4fbd-96bf-a63fc6ec6405"
      },
      "execution_count": 21,
      "outputs": [
        {
          "output_type": "stream",
          "name": "stdout",
          "text": [
            "sum of all even numbers between 1 to 50 is 650\n"
          ]
        }
      ]
    },
    {
      "cell_type": "code",
      "source": [
        "#14. Write a program to reverse a string using a while loop.\n",
        "s = \"Bivabasu\"\n",
        "print (\"The original string  is : \",s)\n",
        "rev = \"\"\n",
        "i = len(s)\n",
        "while i > 0:\n",
        "    rev += s[ i - 1 ]\n",
        "    i-=1\n",
        "print (\"The reversed string is : \",rev)\n"
      ],
      "metadata": {
        "colab": {
          "base_uri": "https://localhost:8080/"
        },
        "id": "8Gb2EKG7qq3i",
        "outputId": "09a35e07-184a-4866-fd1b-9dee5097d57d"
      },
      "execution_count": 22,
      "outputs": [
        {
          "output_type": "stream",
          "name": "stdout",
          "text": [
            "The original string  is :  Bivabasu\n",
            "The reversed string is :  usabaviB\n"
          ]
        }
      ]
    },
    {
      "cell_type": "code",
      "source": [
        "#15. Write a Python program to calculate the factorial of a number provided by the user using a while loop\n",
        "num = int(input(\"Enter a number: \"))\n",
        "fac = 1\n",
        "if num < 0:\n",
        "   print(\" error the number is negative number\")\n",
        "elif num == 0:\n",
        "   print(\"The factorial of 0 is 1\")\n",
        "else:\n",
        "   for i in range(1,num + 1):\n",
        "       fac = fac*i\n",
        "   print(f\"The factorial of {num} is {fac}\")\n"
      ],
      "metadata": {
        "colab": {
          "base_uri": "https://localhost:8080/"
        },
        "id": "xDYDEcBaqwMJ",
        "outputId": "6b04ec65-1f16-49a1-f428-4b45f40cbc55"
      },
      "execution_count": 23,
      "outputs": [
        {
          "output_type": "stream",
          "name": "stdout",
          "text": [
            "Enter a number: 7\n",
            "The factorial of 7 is 5040\n"
          ]
        }
      ]
    }
  ]
}